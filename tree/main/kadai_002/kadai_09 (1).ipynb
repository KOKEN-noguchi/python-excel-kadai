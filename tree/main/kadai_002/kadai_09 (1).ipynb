{
  "nbformat": 4,
  "nbformat_minor": 0,
  "metadata": {
    "colab": {
      "provenance": []
    },
    "kernelspec": {
      "name": "python3",
      "display_name": "Python 3"
    },
    "language_info": {
      "name": "python"
    }
  },
  "cells": [
    {
      "cell_type": "code",
      "execution_count": null,
      "metadata": {
        "colab": {
          "base_uri": "https://localhost:8080/"
        },
        "id": "XVLawsYqV9TC",
        "outputId": "df2167d2-8bc9-4952-ee59-2fd2ad9f41b2"
      },
      "outputs": [
        {
          "output_type": "stream",
          "name": "stdout",
          "text": [
            "           日付 社員名   売上    部門   平均売上\n",
            "0  2023-05-17  山田  100  メーカー  200.0\n",
            "1  2023-05-18  鈴木  200  メーカー  200.0\n",
            "2  2023-05-19  佐藤  150    卸売  200.0\n",
            "3  2023-05-20  田中  300    卸売  200.0\n",
            "4  2023-05-21  高橋  250    卸売  200.0\n"
          ]
        }
      ],
      "source": [
        "import pandas as pd\n",
        "\n",
        "#データフレームの作成\n",
        "df = pd.DataFrame({\n",
        "    '日付':['2023-05-17', '2023-05-18', '2023-05-19', '2023-05-20', '2023-05-21'],\n",
        "    '社員名':['山田', '鈴木', '佐藤', '田中', '高橋'],\n",
        "    '売上':[100,200,150,300,250],\n",
        "    '部門':['メーカー', '代理店', 'メーカー', '商社', '代理店']\n",
        "    })\n",
        "\n",
        "#平均売上列を作成し、全体売上の平均を算出\n",
        "df['平均売上'] = df['売上'].mean()\n",
        "\n",
        "#結果の表示\n",
        "print(df)\n"
      ]
    },
    {
      "cell_type": "code",
      "source": [
        "#条件分岐して業績ランクを設定する関数「prioritize」を定義\n",
        "def prioritize(row):\n",
        "    result ='';\n",
        "    if row['売上'] >= row['平均売上'] + 1.5:\n",
        "        result = 'A'\n",
        "    elif row['売上'] < row['平均売上'] :\n",
        "        result = 'C'\n",
        "    else:\n",
        "        result = 'B'\n",
        "    return result\n",
        "\n",
        "#業績ランク列を作成し、関数「prioritize」を適用して値を設定\n",
        "df['業績ランク'] = df.apply(prioritize, axis=1)\n",
        "\n",
        "#結果の表示\n",
        "print(df)\n",
        "\n",
        "#Excelファイルを作成\n",
        "writer = pd.ExcelWriter('業績.xlsx')\n",
        "df.to_excel(writer, index=False)\n",
        "writer.close()"
      ],
      "metadata": {
        "colab": {
          "base_uri": "https://localhost:8080/"
        },
        "id": "PkZis_X3XxOi",
        "outputId": "b2bea152-6a05-452e-ecd0-f643ac01b6f2"
      },
      "execution_count": 14,
      "outputs": [
        {
          "output_type": "stream",
          "name": "stdout",
          "text": [
            "           日付 社員名   売上    部門   平均売上 業績ランク\n",
            "0  2023-05-17  山田  100  メーカー  200.0     C\n",
            "1  2023-05-18  鈴木  200  メーカー  200.0     B\n",
            "2  2023-05-19  佐藤  150    卸売  200.0     C\n",
            "3  2023-05-20  田中  300    卸売  200.0     A\n",
            "4  2023-05-21  高橋  250    卸売  200.0     A\n"
          ]
        }
      ]
    }
  ]
}