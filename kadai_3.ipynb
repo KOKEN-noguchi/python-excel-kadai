{
  "nbformat": 4,
  "nbformat_minor": 0,
  "metadata": {
    "colab": {
      "provenance": []
    },
    "kernelspec": {
      "name": "python3",
      "display_name": "Python 3"
    },
    "language_info": {
      "name": "python"
    }
  },
  "cells": [
    {
      "cell_type": "code",
      "execution_count": null,
      "metadata": {
        "colab": {
          "base_uri": "https://localhost:8080/"
        },
        "id": "y37oDNW68bfk",
        "outputId": "e5ef1d4e-d724-43d5-c0bf-58f68122e16e"
      },
      "outputs": [
        {
          "output_type": "stream",
          "name": "stdout",
          "text": [
            "     売上年        商品  金額（千円）\n",
            "0   2022        紅茶    1200\n",
            "1   2022      ハチミツ    1000\n",
            "2   2022      セッケン    1300\n",
            "3   2022        紅茶     800\n",
            "4   2022  アロマキャンドル     900\n",
            "5   2022      ハチミツ     300\n",
            "6   2022      ハチミツ     560\n",
            "7   2022    ワイングラス     850\n",
            "8   2022  アロマキャンドル     810\n",
            "9   2022        包丁     940\n",
            "10  2022        水筒    1150\n",
            "11  2023        紅茶    1200\n",
            "12  2023      ハチミツ    1000\n",
            "13  2023        水筒     250\n",
            "14  2023     コーヒー豆     860\n",
            "15  2023      セッケン    1300\n",
            "16  2023        紅茶     670\n",
            "17  2023  アロマキャンドル     900\n",
            "18  2023    ワイングラス     850\n",
            "19  2023        包丁     940\n",
            "20  2023     フライパン     670\n",
            "21  2023        水筒    1150\n"
          ]
        }
      ],
      "source": [
        "import openpyxl\n",
        "import pandas as pd\n",
        "\n",
        "# 処理対象のファイル名のリストを格納\n",
        "file_list = ['2022_年間売上表.xlsx', '2023_年間売上表.xlsx']\n",
        "\n",
        "# 結合後のデータを格納するための空のデータフレームを作成\n",
        "df = pd.DataFrame()\n",
        "\n",
        "# ファイルを一つずつ処理する\n",
        "for file_name in file_list:\n",
        "    # Excelファイルを読み込む\n",
        "    temp_df = pd.read_excel(file_name)\n",
        "\n",
        "    # データフレームの列名を指定\n",
        "    temp_df.columns = ['売上年', '商品', '金額（千円）' ]\n",
        "\n",
        "    # concat()でデータフレームを連結\n",
        "    df = pd.concat([df, temp_df], ignore_index=True)\n",
        "\n",
        "print(df)"
      ]
    },
    {
      "cell_type": "code",
      "source": [
        "# 「商品」と「売上年」の2つの列でグループ化し、「金額（千円）」を合計する\n",
        "sales_summary = df.groupby(['商品', '売上年'], as_index=False)['金額（千円）'].sum()\n",
        "\n",
        "print(sales_summary)\n",
        "\n",
        "# データフレームをExcelファイルに書き出し\n",
        "writer = pd.ExcelWriter('売上集計表.xlsx')\n",
        "\n",
        "# データフレームをExcelファイルに書き出し\n",
        "sales_summary.to_excel(writer, sheet_name='売上集計表', index=False)\n",
        "\n",
        "# Excelファイルを保存する\n",
        "writer.close()"
      ],
      "metadata": {
        "colab": {
          "base_uri": "https://localhost:8080/"
        },
        "id": "vDdtRwCsKfFX",
        "outputId": "59d98be9-7c43-471e-9ebe-f4fc3dc9c9b5"
      },
      "execution_count": 30,
      "outputs": [
        {
          "output_type": "stream",
          "name": "stdout",
          "text": [
            "          商品   売上年  金額（千円）\n",
            "0   アロマキャンドル  2022    1710\n",
            "1   アロマキャンドル  2023     900\n",
            "2      コーヒー豆  2023     860\n",
            "3       セッケン  2022    1300\n",
            "4       セッケン  2023    1300\n",
            "5       ハチミツ  2022    1860\n",
            "6       ハチミツ  2023    1000\n",
            "7      フライパン  2023     670\n",
            "8     ワイングラス  2022     850\n",
            "9     ワイングラス  2023     850\n",
            "10        包丁  2022     940\n",
            "11        包丁  2023     940\n",
            "12        水筒  2022    1150\n",
            "13        水筒  2023    1400\n",
            "14        紅茶  2022    2000\n",
            "15        紅茶  2023    1870\n"
          ]
        }
      ]
    },
    {
      "cell_type": "code",
      "source": [
        "# openpyxl でファイルを開き、シートを選択\n",
        "wb = openpyxl.load_workbook('売上集計表.xlsx')\n",
        "sheet = wb.active\n",
        "\n",
        "# openpyxl.stylesモジュールのPatternFillクラスをインポート\n",
        "from openpyxl.styles import PatternFill\n",
        "\n",
        "# ヘッダー行に色を付ける\n",
        "sheet['A1'].fill = PatternFill(fgColor='F2F2F2', patternType='solid')\n",
        "sheet['B1'].fill = PatternFill(fgColor='F2F2F2', patternType='solid')\n",
        "sheet['C1'].fill = PatternFill(fgColor='F2F2F2', patternType='solid')\n",
        "\n",
        "# 変更を保存\n",
        "wb.save('売上集計表.xlsx')"
      ],
      "metadata": {
        "id": "E_ytnjXGLeL7"
      },
      "execution_count": 31,
      "outputs": []
    }
  ]
}